{
 "cells": [
  {
   "cell_type": "code",
   "execution_count": 1,
   "id": "1c7de491",
   "metadata": {},
   "outputs": [
    {
     "name": "stdout",
     "output_type": "stream",
     "text": [
      "✅ CUDA доступна\n",
      "Устройство: NVIDIA GeForce GTX 1070\n",
      "Драйвер: 11.8\n"
     ]
    }
   ],
   "source": [
    "import torch\n",
    "if torch.cuda.is_available():\n",
    "    print(\"✅ CUDA доступна\")\n",
    "    print(\"Устройство:\", torch.cuda.get_device_name(0))\n",
    "    print(\"Драйвер:\", torch.version.cuda)\n",
    "else:\n",
    "    print(\"❌ CUDA НЕ доступна\")\n"
   ]
  },
  {
   "cell_type": "code",
   "execution_count": 2,
   "id": "9edae5d5",
   "metadata": {},
   "outputs": [
    {
     "name": "stdout",
     "output_type": "stream",
     "text": [
      "Downloading https://github.com/ultralytics/assets/releases/download/v8.3.0/yolo11n.pt to 'yolo11n.pt'...\n"
     ]
    },
    {
     "name": "stderr",
     "output_type": "stream",
     "text": [
      "100%|██████████| 5.35M/5.35M [00:00<00:00, 9.39MB/s]\n"
     ]
    },
    {
     "name": "stdout",
     "output_type": "stream",
     "text": [
      "New https://pypi.org/project/ultralytics/8.3.162 available  Update with 'pip install -U ultralytics'\n",
      "Ultralytics 8.3.161  Python-3.13.5 torch-2.7.1+cu118 CUDA:0 (NVIDIA GeForce GTX 1070, 8192MiB)\n",
      "\u001b[34m\u001b[1mengine\\trainer: \u001b[0magnostic_nms=False, amp=True, augment=False, auto_augment=randaugment, batch=16, bgr=0.0, box=7.5, cache=False, cfg=None, classes=None, close_mosaic=10, cls=0.5, conf=None, copy_paste=0.0, copy_paste_mode=flip, cos_lr=False, cutmix=0.0, data=dataset/data.yaml, degrees=0.0, deterministic=True, device=0, dfl=1.5, dnn=False, dropout=0.0, dynamic=False, embed=None, epochs=50, erasing=0.4, exist_ok=False, fliplr=0.5, flipud=0.0, format=torchscript, fraction=1.0, freeze=None, half=False, hsv_h=0.015, hsv_s=0.7, hsv_v=0.4, imgsz=640, int8=False, iou=0.7, keras=False, kobj=1.0, line_width=None, lr0=0.01, lrf=0.01, mask_ratio=4, max_det=300, mixup=0.0, mode=train, model=yolo11n.pt, momentum=0.937, mosaic=1.0, multi_scale=False, name=train, nbs=64, nms=False, opset=None, optimize=False, optimizer=auto, overlap_mask=True, patience=100, perspective=0.0, plots=True, pose=12.0, pretrained=True, profile=False, project=None, rect=False, resume=False, retina_masks=False, save=True, save_conf=False, save_crop=False, save_dir=runs\\detect\\train, save_frames=False, save_json=False, save_period=-1, save_txt=False, scale=0.5, seed=0, shear=0.0, show=False, show_boxes=True, show_conf=True, show_labels=True, simplify=True, single_cls=False, source=None, split=val, stream_buffer=False, task=detect, time=None, tracker=botsort.yaml, translate=0.1, val=True, verbose=True, vid_stride=1, visualize=False, warmup_bias_lr=0.1, warmup_epochs=3.0, warmup_momentum=0.8, weight_decay=0.0005, workers=8, workspace=None\n",
      "Overriding model.yaml nc=80 with nc=419\n",
      "\n",
      "                   from  n    params  module                                       arguments                     \n",
      "  0                  -1  1       464  ultralytics.nn.modules.conv.Conv             [3, 16, 3, 2]                 \n",
      "  1                  -1  1      4672  ultralytics.nn.modules.conv.Conv             [16, 32, 3, 2]                \n",
      "  2                  -1  1      6640  ultralytics.nn.modules.block.C3k2            [32, 64, 1, False, 0.25]      \n",
      "  3                  -1  1     36992  ultralytics.nn.modules.conv.Conv             [64, 64, 3, 2]                \n",
      "  4                  -1  1     26080  ultralytics.nn.modules.block.C3k2            [64, 128, 1, False, 0.25]     \n",
      "  5                  -1  1    147712  ultralytics.nn.modules.conv.Conv             [128, 128, 3, 2]              \n",
      "  6                  -1  1     87040  ultralytics.nn.modules.block.C3k2            [128, 128, 1, True]           \n",
      "  7                  -1  1    295424  ultralytics.nn.modules.conv.Conv             [128, 256, 3, 2]              \n",
      "  8                  -1  1    346112  ultralytics.nn.modules.block.C3k2            [256, 256, 1, True]           \n",
      "  9                  -1  1    164608  ultralytics.nn.modules.block.SPPF            [256, 256, 5]                 \n",
      " 10                  -1  1    249728  ultralytics.nn.modules.block.C2PSA           [256, 256, 1]                 \n",
      " 11                  -1  1         0  torch.nn.modules.upsampling.Upsample         [None, 2, 'nearest']          \n",
      " 12             [-1, 6]  1         0  ultralytics.nn.modules.conv.Concat           [1]                           \n",
      " 13                  -1  1    111296  ultralytics.nn.modules.block.C3k2            [384, 128, 1, False]          \n",
      " 14                  -1  1         0  torch.nn.modules.upsampling.Upsample         [None, 2, 'nearest']          \n",
      " 15             [-1, 4]  1         0  ultralytics.nn.modules.conv.Concat           [1]                           \n",
      " 16                  -1  1     32096  ultralytics.nn.modules.block.C3k2            [256, 64, 1, False]           \n",
      " 17                  -1  1     36992  ultralytics.nn.modules.conv.Conv             [64, 64, 3, 2]                \n",
      " 18            [-1, 13]  1         0  ultralytics.nn.modules.conv.Concat           [1]                           \n",
      " 19                  -1  1     86720  ultralytics.nn.modules.block.C3k2            [192, 128, 1, False]          \n",
      " 20                  -1  1    147712  ultralytics.nn.modules.conv.Conv             [128, 128, 3, 2]              \n",
      " 21            [-1, 10]  1         0  ultralytics.nn.modules.conv.Concat           [1]                           \n",
      " 22                  -1  1    378880  ultralytics.nn.modules.block.C3k2            [384, 256, 1, True]           \n",
      " 23        [16, 19, 22]  1    593089  ultralytics.nn.modules.head.Detect           [419, [64, 128, 256]]         \n",
      "YOLO11n summary: 181 layers, 2,752,257 parameters, 2,752,241 gradients, 7.3 GFLOPs\n",
      "\n",
      "Transferred 448/499 items from pretrained weights\n",
      "Freezing layer 'model.23.dfl.conv.weight'\n",
      "\u001b[34m\u001b[1mAMP: \u001b[0mrunning Automatic Mixed Precision (AMP) checks...\n",
      "\u001b[34m\u001b[1mAMP: \u001b[0mchecks passed \n",
      "\u001b[34m\u001b[1mtrain: \u001b[0mFast image access  (ping: 3.67.6 ms, read: 27.05.3 MB/s, size: 882.4 KB)\n"
     ]
    },
    {
     "name": "stderr",
     "output_type": "stream",
     "text": [
      "\u001b[34m\u001b[1mtrain: \u001b[0mScanning D:\\dev\\Backpack_Battles_Helper_overlay\\dataset\\labels\\train... 8000 images, 0 backgrounds, 0 corrupt: 100%|██████████| 8000/8000 [02:49<00:00, 47.07it/s]\n"
     ]
    },
    {
     "name": "stdout",
     "output_type": "stream",
     "text": [
      "\u001b[34m\u001b[1mtrain: \u001b[0mNew cache created: D:\\dev\\Backpack_Battles_Helper_overlay\\dataset\\labels\\train.cache\n",
      "\u001b[34m\u001b[1mval: \u001b[0mFast image access  (ping: 16.435.9 ms, read: 7.74.5 MB/s, size: 888.0 KB)\n"
     ]
    },
    {
     "name": "stderr",
     "output_type": "stream",
     "text": [
      "\u001b[34m\u001b[1mval: \u001b[0mScanning D:\\dev\\Backpack_Battles_Helper_overlay\\dataset\\labels\\val... 2000 images, 0 backgrounds, 0 corrupt: 100%|██████████| 2000/2000 [00:45<00:00, 44.28it/s]\n"
     ]
    },
    {
     "name": "stdout",
     "output_type": "stream",
     "text": [
      "\u001b[34m\u001b[1mval: \u001b[0mNew cache created: D:\\dev\\Backpack_Battles_Helper_overlay\\dataset\\labels\\val.cache\n",
      "Plotting labels to runs\\detect\\train\\labels.jpg... \n",
      "\u001b[34m\u001b[1moptimizer:\u001b[0m 'optimizer=auto' found, ignoring 'lr0=0.01' and 'momentum=0.937' and determining best 'optimizer', 'lr0' and 'momentum' automatically... \n",
      "\u001b[34m\u001b[1moptimizer:\u001b[0m AdamW(lr=2.4e-05, momentum=0.9) with parameter groups 81 weight(decay=0.0), 88 weight(decay=0.0005), 87 bias(decay=0.0)\n",
      "Image sizes 640 train, 640 val\n",
      "Using 8 dataloader workers\n",
      "Logging results to \u001b[1mruns\\detect\\train\u001b[0m\n",
      "Starting training for 50 epochs...\n",
      "\n",
      "      Epoch    GPU_mem   box_loss   cls_loss   dfl_loss  Instances       Size\n"
     ]
    },
    {
     "name": "stderr",
     "output_type": "stream",
     "text": [
      "  0%|          | 0/500 [00:00<?, ?it/s]"
     ]
    },
    {
     "name": "stdout",
     "output_type": "stream",
     "text": [
      "WARNING CUDA OutOfMemoryError in TaskAlignedAssigner, using CPU\n"
     ]
    },
    {
     "ename": "",
     "evalue": "",
     "output_type": "error",
     "traceback": [
      "\u001b[1;31mThe Kernel crashed while executing code in the current cell or a previous cell. \n",
      "\u001b[1;31mPlease review the code in the cell(s) to identify a possible cause of the failure. \n",
      "\u001b[1;31mClick <a href='https://aka.ms/vscodeJupyterKernelCrash'>here</a> for more info. \n",
      "\u001b[1;31mView Jupyter <a href='command:jupyter.viewOutput'>log</a> for further details."
     ]
    }
   ],
   "source": [
    "from ultralytics import YOLO\n",
    "\n",
    "model = YOLO(\"yolo11n.pt\")\n",
    "model.train(data=\"dataset/data.yaml\", epochs=50, imgsz=640, device=0)  # 0 — это GPU"
   ]
  },
  {
   "cell_type": "markdown",
   "id": "b4d20021",
   "metadata": {},
   "source": [
    "Predict по фото"
   ]
  },
  {
   "cell_type": "code",
   "execution_count": null,
   "id": "97e60833",
   "metadata": {},
   "outputs": [
    {
     "name": "stdout",
     "output_type": "stream",
     "text": [
      "\n",
      "image 1/1 d:\\dev\\Backpack_Battles_Helper\\0.png: 512x640 (no detections), 14.1ms\n",
      "Speed: 3.1ms preprocess, 14.1ms inference, 1.5ms postprocess per image at shape (1, 3, 512, 640)\n",
      "Results saved to \u001b[1mruns\\detect\\predict15\u001b[0m\n",
      "ultralytics.engine.results.Boxes object with attributes:\n",
      "\n",
      "cls: tensor([], device='cuda:0')\n",
      "conf: tensor([], device='cuda:0')\n",
      "data: tensor([], device='cuda:0', size=(0, 6))\n",
      "id: None\n",
      "is_track: False\n",
      "orig_shape: (1120, 1440)\n",
      "shape: torch.Size([0, 6])\n",
      "xywh: tensor([], device='cuda:0', size=(0, 4))\n",
      "xywhn: tensor([], device='cuda:0', size=(0, 4))\n",
      "xyxy: tensor([], device='cuda:0', size=(0, 4))\n",
      "xyxyn: tensor([], device='cuda:0', size=(0, 4))\n",
      "{0: 'Lucky Piggy', 1: 'Heart of Darkness', 2: 'Flawed Ruby', 3: 'Rainbow Potion', 4: 'Twine', 5: 'Sapphire Whelp', 6: 'Gloves of Haste', 7: 'Stone Armor', 8: 'Mage Hat', 9: 'Armored Power Puppy', 10: 'Eggscalibur', 11: 'Puzzlebag of Endurance', 12: 'Rat Chef', 13: 'Ice Armor', 14: 'Shiny Mantle', 15: 'Hammer', 16: 'Strong Mana Potion', 17: 'Villain Sword', 18: 'Yggdrasil Leaf', 19: 'Amethyst Egg', 20: 'Stable Recombobulator', 21: 'Null Blade', 22: 'Squirrel Archer', 23: 'Strong Pestilence Flask', 24: 'Harold, the Hateful Hat', 25: 'Ruby Whelp', 26: 'Torch', 27: 'Rainbow Goobert Gigabrocolomega', 28: 'Amulet of Fortune', 29: 'Star of Courage', 30: 'Stamina Sack', 31: 'Emerald Egg', 32: 'Bag of Giving', 33: 'Hero Sword', 34: 'Fancy Fencing Rapier', 35: 'Spicy Banana', 36: 'Frozen Flame', 37: 'Oil Lamp', 38: 'Poison Dagger', 39: 'Puzzlebag of Ruin', 40: 'Dragonskin Boots', 41: 'Chipped Topaz', 42: 'Encyclopspedia of Darkness', 43: 'Flawless Amethyst', 44: 'Impractically Large Bloodthorne', 45: 'Crow', 46: 'King Goobert', 47: 'Hedgehog', 48: 'Snowball', 49: 'Hawk Rune', 50: 'White Pawn', 51: 'Very Long Spear', 52: 'Boomerang', 53: 'Critwood Staff', 54: 'Fanfare', 55: 'Lump of Coal', 56: 'Everburning', 57: 'Turbo-Shelly', 58: 'Scale', 59: 'Vineweave Basket', 60: 'Rainbow Goobert Megasludge Alphapuddle', 61: 'Vampiric Potion', 62: 'Dark Lantern', 63: 'Sapphire Egg', 64: 'Emerald Whelp', 65: 'Walrus Tusk', 66: 'Mercury Elemental', 67: 'Chipped Amethyst', 68: 'Leather Boots', 69: 'Cheese Goobert', 70: 'Ice Dragon', 71: 'Scripture of Light', 72: 'Cauldron', 73: 'Solaris', 74: 'Flawless Ruby', 75: 'Bloody Dagger', 76: 'Snake', 77: 'Poison Frog', 78: 'Sandbag', 79: 'Cubert', 80: 'Frostbite', 81: 'Repeater', 82: 'Lantern Berry', 83: 'Cap of Discomfort', 84: 'Puzzle Badge', 85: 'Vampiric Armor', 86: 'Death Scythe', 87: 'Unidentified Amulet', 88: 'Burning Coal', 89: 'Black Pawn', 90: 'Regular Ruby', 91: 'Ripsaw Blade', 92: 'Claws of Attack', 93: 'Stoned', 94: 'Heroic Potion', 95: 'Piggy Pinata', 96: 'Mrs. Struggles', 97: 'Cheese', 98: 'Knife to Meet You', 99: 'Pineapple', 100: 'Staff of Unhealing', 101: 'Spirit Bells', 102: 'Sun Armor', 103: 'Falcon Blade', 104: \"Fortuna's Hope\", 105: 'Jimbo', 106: 'Dragonscale Armor', 107: 'Serpent Staff', 108: 'Regular Amethyst', 109: 'Corrupted Crystal', 110: 'Leather Bag', 111: 'Mana Orb', 112: 'Deerwood Guardian', 113: 'Ace of Spades', 114: 'Ruby Egg', 115: 'Magic For Dummies', 116: 'White King', 117: 'Fly Agaric', 118: 'Flame', 119: 'King Crown', 120: 'Toad', 121: 'Girl Power', 122: 'Darkest Lotus', 123: 'Customer Card', 124: 'Chipped Emerald', 125: 'Flute', 126: 'Manathirst', 127: 'White Queen', 128: 'Cupcake Staff', 129: 'Obsidian Dragon', 130: 'Acorn Ace', 131: 'Investment Opportunity', 132: 'Flawed Amethyst', 133: 'Superspacious', 134: 'Blood Goobert', 135: 'Flawed Topaz', 136: 'Amethyst Whelp', 137: 'Just Stats', 138: 'Protective Purse', 139: 'Storage Coffin', 140: 'Extra Angy', 141: 'Black King', 142: 'Stone', 143: 'Level Up', 144: 'Snowcake', 145: 'Black Rook', 146: 'Strong Vampiric Potion', 147: 'Wolf Badge', 148: 'Molten Spear', 149: 'Perfect Sapphire', 150: 'Thornburst', 151: 'Flawless Topaz', 152: 'Molten Dagger', 153: 'Moon Shield', 154: 'Dragon Claws', 155: 'Wooden Sword', 156: 'Gloves of Power', 157: 'Cupcake', 158: 'Phoenix', 159: 'Steel Goobert', 160: 'Katana', 161: \"Belladonna's Whisper\", 162: 'Snow Stick', 163: 'Blueberries', 164: 'Burning Blade', 165: 'Light Goobert', 166: 'Armored Courage Puppy', 167: 'Blood Amulet', 168: \"Fortuna's Kiss\", 169: 'Stone Helm', 170: 'Flawed Emerald', 171: 'Strong Demonic Flask', 172: 'Holo Fire Lizard', 173: 'Red Orchid Collar', 174: 'Water Elemental', 175: 'Power Puppy', 176: 'White Lily Collar', 177: 'Ultima Ascension', 178: 'Sun Shield', 179: 'Thorn Whip', 180: 'Wonky Snowman', 181: 'Dual Wielding', 182: 'Relic Case', 183: 'Wand of Equilibrium', 184: 'Winged Boots', 185: 'Thornbloom', 186: 'Blue Sage Collar', 187: 'Draconic Orb', 188: 'Holy Spear', 189: 'Lil Chestnut', 190: 'Djinn Lamp', 191: 'Flame Whip', 192: 'Smithing For Dummies', 193: 'Bloodthorne', 194: 'Skull Badge', 195: 'Wisdom Puppy', 196: 'Spiked Staff', 197: 'Pop', 198: 'Puzzlebag of Improvement', 199: 'Dragon Nest', 200: 'Amulet of Darkness', 201: 'Bow and Arrow', 202: 'Power of the Moon', 203: 'Black Knight', 204: 'Shiny Shell', 205: 'Cthulhu', 206: 'Full Body Protection', 207: 'BunchofCoins', 208: 'Nocturnal Lock Lifter', 209: 'Magic Badge', 210: 'Poison Ivy', 211: 'Friendly Fire', 212: 'Shelly', 213: 'Owl Spirit Companion', 214: 'White Rook', 215: 'Fanny Pack', 216: 'Magic Torch', 217: 'Uniquely Unique', 218: 'Maneki-neko', 219: 'Rainbow Goobert Omegaooze Primeslime', 220: 'Strong Stone Skin Potion', 221: 'More Stats', 222: 'Double Rainbow', 223: 'Perfect Emerald', 224: 'Pan', 225: 'Cat Spirit Companion', 226: 'Hungry Blade', 227: 'Chess Board', 228: 'Divine Potion', 229: 'Lightsaber', 230: 'Cursed Dagger', 231: 'Fedora', 232: 'Regular Emerald', 233: 'Puzzlebag of Love', 234: 'Piercing Arrow', 235: 'Chain Whip', 236: 'Flawless Emerald', 237: 'Rainbow Goobert Deathslushy Mansquisher', 238: 'Twine Badge', 239: 'Hyper Hedgehog', 240: 'Employee Uniform', 241: 'Reverse!', 242: 'Spear', 243: 'Holdall', 244: 'Cupcake Goobert', 245: 'Shaman Mask', 246: 'Box of Prosperity', 247: 'Offering Bowl', 248: 'Mushroom Farm', 249: 'Armored Wisdom Puppy', 250: 'Forging Hammer', 251: 'Molten Greatsword', 252: 'Black Bishop', 253: 'Pumpkin', 254: 'Dragon Set', 255: 'Heavy Drinking', 256: 'Amulet of Energy', 257: 'RubyChonk', 258: 'Jynx Staff', 259: 'Heart Container', 260: 'Platinum Customer Card', 261: 'Prismatic Sword', 262: 'Fire Pit', 263: 'Blood Manipulation', 264: 'Unstable Recombobulator', 265: 'Jynx torquilla', 266: 'Chipped Ruby', 267: 'Potion Belt', 268: 'Time Dilator', 269: 'Mana Potion', 270: 'Piggybank', 271: 'Regular Sapphire', 272: 'Frozen Buckler', 273: 'Leaf Badge', 274: 'Strong Heroic Potion', 275: 'Prismatic Wand', 276: 'Mana Mastery', 277: 'Markswoman', 278: 'Amulet of the Wild', 279: 'Health Potion', 280: 'Goobert', 281: 'Regular Topaz', 282: 'Amulet of Life', 283: 'Gingerbread Jerry', 284: 'Shortbow', 285: 'Bagtacular', 286: 'Hero Longsword', 287: 'Deck of Cards', 288: 'Rainbow Goobert Epicglob Uberviscous', 289: 'Puzzlebag of Energy', 290: 'Shield of Valor', 291: 'Flawed Sapphire', 292: 'The Lovers', 293: 'Wolf Emblem', 294: 'Strong Divine Potion', 295: 'Pestilence Flask', 296: 'Flame Badge', 297: 'Perfect Topaz', 298: 'Whetstone', 299: 'Chipped Sapphire', 300: 'Rat', 301: 'Dragon Knight', 302: 'White Bishop', 303: 'Ranger Bag', 304: 'Squirrel', 305: 'Devouring Sphere', 306: \"Frieren's Guide to Ice\", 307: 'Ice Flower', 308: 'Shielded', 309: 'Amulet of Steel', 310: 'Dagger', 311: 'Flawless Sapphire', 312: 'Broom', 313: 'Pocket Sand', 314: 'Arcane Vision', 315: 'Strong Health Potion', 316: 'Broccoli Goobert', 317: 'Utility Pouch', 318: 'Shovel', 319: 'Doom Cap', 320: 'Stone Badge', 321: 'Rainbow Goobert Omnicolor Sugargoo', 322: 'Pandamonium', 323: 'Death Lotus', 324: 'Tusk Poker', 325: 'Staff of Fire', 326: 'Poison Spear', 327: 'Crossblades', 328: 'Scholar Bag', 329: \"Belladonna's Shade\", 330: 'Double Axe', 331: 'Snowmaster', 332: 'Amulet of Alchemy', 333: 'Corrupted Armor', 334: 'Stone Skin Potion', 335: 'Blood Harvester', 336: 'Carrot', 337: 'Spiked Wall', 338: 'Ukulele', 339: 'Wooden Buckler', 340: 'Goobling', 341: 'Magic Staff', 342: 'Brass Knuckles', 343: 'False Life', 344: 'Broccoli', 345: 'Mega Clover', 346: 'Box of Riches', 347: 'Spectral Dagger', 348: 'Lucky Clover', 349: 'Vampiric Gloves', 350: 'Holy Armor', 351: 'Time Melting', 352: 'Mr. Struggles', 353: 'Shepherd’s Crook', 354: 'Cold Mirror', 355: 'Dancing Dragon', 356: 'Duffle Bag', 357: 'Wolpertinger', 358: 'Black Queen', 359: 'Dark Ritual', 360: 'Bag of Stones', 361: 'Piggy of Riches', 362: 'White Knight', 363: 'Busted Blade', 364: 'Smelly Wall', 365: 'Stone Shoes', 366: 'The Fool', 367: 'Anvil', 368: 'Demonic Flask', 369: 'Tusk Piercer', 370: 'Rope', 371: 'It’s Slime Time!', 372: 'Amulet of Feasting', 373: 'Dig Deeper', 374: 'Badger Rune', 375: 'Heart of the Cards', 376: 'Axe', 377: \"Fortuna's Grace\", 378: 'Glowing Crown', 379: 'Hero Shield', 380: 'Hardwood', 381: 'Stone Golem', 382: 'Daggerang', 383: 'Banana', 384: 'Tim', 385: 'Chili Goobert', 386: 'White-Eyes Blue Dragon', 387: 'Darksaber', 388: 'Big Bowl of Treats', 389: 'Poison Goobert', 390: 'Burning Banner', 391: 'SpikedCollar', 392: 'No Rush Please', 393: 'Paradise Birb', 394: 'Moon Armor', 395: 'Rainbow Badge', 396: 'Elephant Rune', 397: 'Shell Totem', 398: 'Heart Shield', 399: 'Turtle', 400: 'Buy the Holy Light', 401: 'Cap of Resilience', 402: 'Unidentified Skill', 403: 'Enchanted Weapons', 404: 'Perfect Amethyst', 405: 'Healing Herbs', 406: 'Happy Bomb', 407: 'Acorn Collar', 408: 'Unsettling Presence', 409: 'Spiked Shield', 410: 'Puzzlebox', 411: 'Sewing Case', 412: 'Courage Puppy', 413: 'Perfect Ruby', 414: 'Burning Sword', 415: 'Echoing Battlecry', 416: 'Carrot Goobert', 417: 'Scissorswords', 418: 'Garlic'}\n"
     ]
    }
   ],
   "source": [
    "from ultralytics import YOLO\n",
    "import cv2\n",
    "\n",
    "# Загрузка модели\n",
    "model = YOLO('runs/detect/train12/weights/best.pt')\n",
    "\n",
    "# Предсказание\n",
    "results = model.predict(source='0.png', save=True, conf=0.1)\n",
    "\n",
    "# Вывод результатов (bbox, классы)\n",
    "for result in results:\n",
    "    print(result.boxes)  # bounding boxes\n",
    "    print(result.names)  # имена классов\n"
   ]
  },
  {
   "cell_type": "markdown",
   "id": "48eb9272",
   "metadata": {},
   "source": [
    "realtime prediction"
   ]
  },
  {
   "cell_type": "code",
   "execution_count": 3,
   "id": "412f7926",
   "metadata": {},
   "outputs": [],
   "source": [
    "import cv2\n",
    "import numpy as np\n",
    "from ultralytics import YOLO\n",
    "import pygetwindow as gw\n",
    "import pyautogui\n",
    "import time\n",
    "\n",
    "# Загрузка моделиD:\\dev\\Backpack_Battles_Helper\\runs\\detect\\train10\\weights\\best.pt\n",
    "model = YOLO(\"runs/detect/train12/weights/best.pt\")\n",
    "\n",
    "WINDOW_TITLE = \"Backpack Battles\"\n",
    "\n",
    "# Смещение и размер рюкзака внутри окна\n",
    "BAG_REGION_OFFSET = (30, 40, 760, 600)  # (offset_x, offset_y, width, height)\n",
    "\n",
    "def get_window_rect(title_contains):\n",
    "    for window in gw.getWindowsWithTitle(title_contains):\n",
    "        if window.width > 0 and window.height > 0:\n",
    "            return window.left, window.top, window.width, window.height\n",
    "    raise RuntimeError(f\"Окно с '{title_contains}' не найдено или свернуто.\")\n",
    "\n",
    "while True:\n",
    "    try:\n",
    "        # Получаем координаты окна\n",
    "        win_left, win_top, win_width, win_height = get_window_rect(WINDOW_TITLE)\n",
    "\n",
    "        # Координаты зоны рюкзака\n",
    "        offset_x, offset_y, region_w, region_h = BAG_REGION_OFFSET\n",
    "        abs_left = win_left + offset_x\n",
    "        abs_top = win_top + offset_y\n",
    "\n",
    "        # Захват изображения зоны рюкзака\n",
    "        screenshot = pyautogui.screenshot(region=(abs_left, abs_top, region_w, region_h))\n",
    "        frame = cv2.cvtColor(np.array(screenshot), cv2.COLOR_RGB2BGR)\n",
    "\n",
    "        # YOLOv8 предсказание\n",
    "        results = model.predict(source=frame, conf=0.25, imgsz=640, verbose=False)[0]\n",
    "        annotated_frame = results.plot()\n",
    "\n",
    "        # Нарисуем зелёную рамку на копии изображения\n",
    "        frame_with_box = annotated_frame.copy()\n",
    "        cv2.rectangle(\n",
    "            frame_with_box,\n",
    "            (0, 0),\n",
    "            (region_w - 1, region_h - 1),\n",
    "            (0, 255, 0),\n",
    "            thickness=3\n",
    "        )\n",
    "\n",
    "        # Отображение окна\n",
    "        cv2.imshow(\"YOLOv8 - Backpack Region\", frame_with_box)\n",
    "\n",
    "        # Выход по Q\n",
    "        if cv2.waitKey(1) & 0xFF == ord(\"q\"):\n",
    "            break\n",
    "\n",
    "    except Exception as e:\n",
    "        print(f\"[Ошибка] {e}\")\n",
    "        time.sleep(1)\n",
    "\n",
    "cv2.destroyAllWindows()\n"
   ]
  }
 ],
 "metadata": {
  "kernelspec": {
   "display_name": "Python 3",
   "language": "python",
   "name": "python3"
  },
  "language_info": {
   "codemirror_mode": {
    "name": "ipython",
    "version": 3
   },
   "file_extension": ".py",
   "mimetype": "text/x-python",
   "name": "python",
   "nbconvert_exporter": "python",
   "pygments_lexer": "ipython3",
   "version": "3.13.5"
  }
 },
 "nbformat": 4,
 "nbformat_minor": 5
}
