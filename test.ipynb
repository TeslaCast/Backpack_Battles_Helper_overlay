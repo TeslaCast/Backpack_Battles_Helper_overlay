{
 "cells": [
  {
   "cell_type": "code",
   "execution_count": 1,
   "id": "160870b9",
   "metadata": {},
   "outputs": [],
   "source": [
    "import os\n",
    "import random\n",
    "from PIL import Image, ImageDraw"
   ]
  },
  {
   "cell_type": "code",
   "execution_count": 37,
   "id": "a7f9c176",
   "metadata": {},
   "outputs": [],
   "source": [
    "def rotate_shape(shape, rotates_num=1):\n",
    "    '''Функция для поворота массива различной размерности на 90 градусов по часовой стрелке'''\n",
    "    \n",
    "    for _ in range(rotates_num % 4):  # 4 поворота — это полный оборот, больше не нужно\n",
    "        shape = [list(row) for row in zip(*shape[::-1])]\n",
    "    \n",
    "    return shape\n",
    "\n",
    "def print_mas(shape):\n",
    "    for row in shape:\n",
    "        print(row)\n",
    "    print()\n",
    "    return "
   ]
  },
  {
   "cell_type": "code",
   "execution_count": 36,
   "id": "9a6417c3",
   "metadata": {},
   "outputs": [
    {
     "name": "stdout",
     "output_type": "stream",
     "text": [
      "[1, 2, 3]\n",
      "[4, 5, 6]\n",
      "[7, 8, 9]\n",
      "\n",
      "[7, 8, 9]\n",
      "[4, 5, 6]\n",
      "[1, 2, 3]\n",
      "\n",
      "(7, 4, 1)\n",
      "(8, 5, 2)\n",
      "(9, 6, 3)\n",
      "\n"
     ]
    }
   ],
   "source": [
    "test_shape = [[1,2,3],[4,5,6],[7,8,9]]\n",
    "shape = test_shape[::-1]\n",
    "zip_shape = zip(*shape)\n",
    "print_mas(test_shape)\n",
    "print_mas(shape)\n",
    "print_mas(zip_shape)\n"
   ]
  },
  {
   "cell_type": "code",
   "execution_count": null,
   "id": "fce794fe",
   "metadata": {},
   "outputs": [],
   "source": [
    "test_shape4 = [[1,2,3],[4,5,6],[7,8,9]]\n",
    "test_shape2 = [[1,2],[3,4]]\n",
    "test_shape3 = [[1,2],[3,4],[5,6]]"
   ]
  },
  {
   "cell_type": "code",
   "execution_count": 39,
   "id": "0228fa57",
   "metadata": {},
   "outputs": [
    {
     "name": "stdout",
     "output_type": "stream",
     "text": [
      "[1, 2]\n",
      "[3, 4]\n",
      "\n",
      "[3, 1]\n",
      "[4, 2]\n",
      "\n",
      "[4, 3]\n",
      "[2, 1]\n",
      "\n",
      "[2, 4]\n",
      "[1, 3]\n",
      "\n",
      "[1, 2]\n",
      "[3, 4]\n",
      "\n"
     ]
    }
   ],
   "source": [
    "for i in range(5):\n",
    "    print_mas(rotate_shape(test_shape2, rotates_num=i))"
   ]
  },
  {
   "cell_type": "code",
   "execution_count": 40,
   "id": "d3ebe4d6",
   "metadata": {},
   "outputs": [
    {
     "name": "stdout",
     "output_type": "stream",
     "text": [
      "[0, 0, 0, 0, 0, 0, 0, 0, 0]\n",
      "[0, 0, 0, 0, 0, 0, 0, 0, 0]\n",
      "[0, 0, 0, 0, 0, 0, 0, 0, 0]\n",
      "[0, 0, 0, 0, 0, 0, 0, 0, 0]\n",
      "[0, 0, 0, 0, 0, 0, 0, 0, 0]\n",
      "[0, 0, 0, 0, 0, 0, 0, 0, 0]\n",
      "[0, 0, 0, 0, 0, 0, 0, 0, 0]\n",
      "\n"
     ]
    }
   ],
   "source": [
    "print_mas([[0] * 9 for _ in range(7)])"
   ]
  },
  {
   "cell_type": "code",
   "execution_count": 53,
   "id": "b6419341",
   "metadata": {},
   "outputs": [],
   "source": [
    "CELL_SIZE = 160\n",
    "GRID_WIDTH = 9\n",
    "GRID_HEIGHT = 7\n",
    "IMG_WIDTH = GRID_WIDTH * CELL_SIZE\n",
    "IMG_HEIGHT = GRID_HEIGHT * CELL_SIZE\n",
    "\n",
    "\n",
    "def can_place(grid, shape, x, y):\n",
    "    for dy, row in enumerate(shape):           # проходим по строкам формы\n",
    "        for dx, val in enumerate(row):\n",
    "            print(f'Текущая ячейка: {dy},{dx}')         # и по элементам в строке\n",
    "            if val == 1:                       # если текущая ячейка непустая (1)\n",
    "                gx, gy = x + dx, y + dy        # вычисляем координаты на сетке\n",
    "                if gx >= GRID_WIDTH or gy >= GRID_HEIGHT or grid[gy][gx] == 1:\n",
    "                    return False               # нельзя ставить: выходит за границы или ячейка занята\n",
    "    return True\n",
    "\n",
    "def fill_array(val=0, grid_width = 1, grid_height = 1):\n",
    "    '''Создает массив заданной размерности заполненный значением val'''\n",
    "    return [[val] * grid_width for _ in range(grid_height)]"
   ]
  },
  {
   "cell_type": "code",
   "execution_count": 54,
   "id": "d984a576",
   "metadata": {},
   "outputs": [
    {
     "name": "stdout",
     "output_type": "stream",
     "text": [
      "[0]\n",
      "[0]\n",
      "[0]\n",
      "\n",
      "Текущая ячейка: 0,0\n",
      "Текущая ячейка: 0,1\n",
      "Текущая ячейка: 0,2\n",
      "True\n",
      "[1, 2, 3]\n",
      "\n",
      "Текущая ячейка: 0,0\n",
      "Текущая ячейка: 1,0\n",
      "Текущая ячейка: 2,0\n",
      "True\n",
      "[1]\n",
      "[2]\n",
      "[3]\n",
      "\n"
     ]
    }
   ],
   "source": [
    "shape1 = [[1,2,3]]\n",
    "grid = fill_array(val=0,grid_width=1,grid_height=3)\n",
    "\n",
    "\n",
    "print_mas(grid)\n",
    "\n",
    "print(can_place(grid, shape1,0,0))\n",
    "print_mas(shape1)\n",
    "\n",
    "\n",
    "shape1 = rotate_shape(shape1)\n",
    "\n",
    "print(can_place(grid, shape1,0,0))\n",
    "print_mas(shape1)\n"
   ]
  },
  {
   "cell_type": "code",
   "execution_count": 56,
   "id": "fd231be2",
   "metadata": {},
   "outputs": [
    {
     "name": "stdout",
     "output_type": "stream",
     "text": [
      "Готово! Словарь сохранён в item_id_map.json\n"
     ]
    }
   ],
   "source": [
    "import os\n",
    "import json\n",
    "\n",
    "def create_item_id_mapping(bags_dir, items_dir, output_file):\n",
    "    all_files = []\n",
    "\n",
    "    # Получаем список файлов из обеих папок\n",
    "    for folder in [bags_dir, items_dir]:\n",
    "        for filename in os.listdir(folder):\n",
    "            if filename.lower().endswith(('.png', '.jpg', '.jpeg', '.webp')):  # допустимые форматы\n",
    "                name = os.path.splitext(filename)[0]  # без расширения\n",
    "                all_files.append(name)\n",
    "\n",
    "    # Удалим дубликаты и отсортируем (по желанию)\n",
    "    unique_names = set(all_files)\n",
    "\n",
    "    # Создаём словарь: имя -> id\n",
    "    name_to_id = {name: idx for idx, name in enumerate(unique_names)}\n",
    "\n",
    "    # Сохраняем в JSON\n",
    "    with open(output_file, 'w', encoding='utf-8') as f:\n",
    "        json.dump(name_to_id, f, ensure_ascii=False, indent=4)\n",
    "\n",
    "    print(f'Готово! Словарь сохранён в {output_file}')\n",
    "\n",
    "# Пример использования\n",
    "create_item_id_mapping('resized_items/bags', 'resized_items/items', 'item_id_map.json')\n"
   ]
  },
  {
   "cell_type": "code",
   "execution_count": 57,
   "id": "52917511",
   "metadata": {},
   "outputs": [],
   "source": [
    "from PIL import Image, ImageDraw, ImageFilter\n",
    "import random\n",
    "\n",
    "def generate_stylized_cell(size=160):\n",
    "    base_color = (180, 150, 110)  # светло-коричневый\n",
    "    highlight = (200, 170, 130)\n",
    "    shadow = (100, 80, 60)\n",
    "\n",
    "    img = Image.new(\"RGBA\", (size, size), base_color)\n",
    "    draw = ImageDraw.Draw(img)\n",
    "\n",
    "    # Мягкая внутренняя заливка\n",
    "    inner_margin = 10\n",
    "    draw.rounded_rectangle(\n",
    "        [inner_margin, inner_margin, size-inner_margin, size-inner_margin],\n",
    "        radius=20,\n",
    "        fill=highlight\n",
    "    )\n",
    "\n",
    "    # Тень по краям (градиентное размытие)\n",
    "    shadow_layer = Image.new(\"RGBA\", (size, size), (0, 0, 0, 0))\n",
    "    shadow_draw = ImageDraw.Draw(shadow_layer)\n",
    "    shadow_draw.rounded_rectangle(\n",
    "        [0, 0, size, size],\n",
    "        radius=30,\n",
    "        fill=shadow + (60,)  # прозрачная тень\n",
    "    )\n",
    "    shadow_layer = shadow_layer.filter(ImageFilter.GaussianBlur(6))\n",
    "    img = Image.alpha_composite(shadow_layer, img)\n",
    "\n",
    "    # Лёгкий \"шум\" или потертость\n",
    "    noise = Image.effect_noise((size, size), 10)\n",
    "    noise = noise.convert(\"L\").point(lambda x: x // 3)\n",
    "    noise = noise.convert(\"RGBA\")\n",
    "    img = Image.alpha_composite(img, noise)\n",
    "\n",
    "    return img\n",
    "\n",
    "# Пример использования\n",
    "cell_texture = generate_stylized_cell()\n",
    "cell_texture.save(\"stylized_cell.png\")\n"
   ]
  },
  {
   "cell_type": "markdown",
   "id": "d3bc7b21",
   "metadata": {},
   "source": [
    "Окно с реалтайм обработкой "
   ]
  },
  {
   "cell_type": "code",
   "execution_count": 8,
   "id": "78fe3f88",
   "metadata": {},
   "outputs": [],
   "source": [
    "import cv2\n",
    "import json\n",
    "import random\n",
    "\n",
    "# Загрузка классов\n",
    "with open('item_id_map.json', 'r', encoding='utf-8') as f:\n",
    "    name_to_id = json.load(f)\n",
    "\n",
    "id_to_name = {v: k for k, v in name_to_id.items()}\n",
    "\n",
    "# Генерируем случайные цвета для каждого класса\n",
    "class_colors = {\n",
    "    class_id: (random.randint(50, 255), random.randint(50, 255), random.randint(50, 255))\n",
    "    for class_id in id_to_name\n",
    "}\n",
    "\n",
    "# Загрузим фото\n",
    "image = cv2.imread('dataset/images/train/1.png')\n",
    "height, width = image.shape[:2]\n",
    "\n",
    "# Прочитаем аннотации\n",
    "with open('dataset/labels/train/1.txt', 'r') as f:\n",
    "    lines = f.readlines()\n",
    "\n",
    "for line in lines:\n",
    "    class_id, x_center, y_center, w, h = map(float, line.strip().split())\n",
    "    x_center *= width\n",
    "    y_center *= height\n",
    "    w *= width\n",
    "    h *= height\n",
    "\n",
    "    x1 = int(x_center - w / 2)\n",
    "    y1 = int(y_center - h / 2)\n",
    "    x2 = int(x_center + w / 2)\n",
    "    y2 = int(y_center + h / 2)\n",
    "\n",
    "    color = class_colors[int(class_id)]\n",
    "    label = id_to_name[int(class_id)]\n",
    "\n",
    "    # Нарисуем прямоугольник\n",
    "    cv2.rectangle(image, (x1, y1), (x2, y2), color, 2)\n",
    "\n",
    "    # Нарисуем подпись с названием класса\n",
    "    cv2.putText(image, label, (x1, y1 - 10),\n",
    "                cv2.FONT_HERSHEY_SIMPLEX, 0.8, color, 2)\n",
    "\n",
    "# Покажем изображение\n",
    "cv2.imshow('Image with boxes', image)\n",
    "cv2.waitKey(0)\n",
    "cv2.destroyAllWindows()\n"
   ]
  },
  {
   "cell_type": "markdown",
   "id": "19e25320",
   "metadata": {},
   "source": [
    "Разделение train images и labels на train и val"
   ]
  },
  {
   "cell_type": "code",
   "execution_count": 1,
   "id": "4cca7110",
   "metadata": {},
   "outputs": [
    {
     "name": "stdout",
     "output_type": "stream",
     "text": [
      "Train: 0 изображений\n",
      "Val: 0 изображений\n",
      "Сгенерирован файл dataset\\data.yaml\n"
     ]
    }
   ],
   "source": [
    "import os\n",
    "import shutil\n",
    "import random\n",
    "from pathlib import Path\n",
    "import yaml\n",
    "import json\n",
    "\n",
    "# Один раз загружаем словарь из файла\n",
    "with open('item_id_map.json', 'r', encoding='utf-8') as f:\n",
    "    name_to_id = json.load(f)\n",
    "\n",
    "# Параметры\n",
    "dataset_dir = Path(\"dataset\")\n",
    "images_dir = dataset_dir / \"images\" / \"train_full\"\n",
    "labels_dir = dataset_dir / \"labels\" / \"train_full\"\n",
    "\n",
    "train_images_dir = dataset_dir / \"images\" / \"train\"\n",
    "val_images_dir = dataset_dir / \"images\" / \"val\"\n",
    "train_labels_dir = dataset_dir / \"labels\" / \"train\"\n",
    "val_labels_dir = dataset_dir / \"labels\" / \"val\"\n",
    "\n",
    "val_ratio = 0.2  # 20% для валидации\n",
    "\n",
    "# Создаём папки, если их нет\n",
    "for d in [train_images_dir, val_images_dir, train_labels_dir, val_labels_dir]:\n",
    "    d.mkdir(parents=True, exist_ok=True)\n",
    "\n",
    "# Получаем список всех файлов изображений\n",
    "all_images = sorted(images_dir.glob(\"*.png\"))  # подстрой под формат, если другой\n",
    "\n",
    "# Перемешиваем для случайного разбиения\n",
    "random.shuffle(all_images)\n",
    "\n",
    "num_val = int(len(all_images) * val_ratio)\n",
    "val_images = all_images[:num_val]\n",
    "train_images = all_images[num_val:]\n",
    "\n",
    "def copy_files(file_list, images_dst, labels_dst):\n",
    "    for img_path in file_list:\n",
    "        label_path = labels_dir / (img_path.stem + \".txt\")\n",
    "\n",
    "        shutil.copy(img_path, images_dst / img_path.name)\n",
    "        if label_path.exists():\n",
    "            shutil.copy(label_path, labels_dst / label_path.name)\n",
    "        else:\n",
    "            print(f\"Внимание: нет аннотации для {img_path.name}\")\n",
    "\n",
    "# Копируем файлы\n",
    "copy_files(train_images, train_images_dir, train_labels_dir)\n",
    "copy_files(val_images, val_images_dir, val_labels_dir)\n",
    "\n",
    "print(f\"Train: {len(train_images)} изображений\")\n",
    "print(f\"Val: {len(val_images)} изображений\")\n",
    "\n",
    "# Генерация data.yaml для YOLOv8\n",
    "data_yaml = {\n",
    "    'path': str(dataset_dir.resolve()),  # корневая папка dataset\n",
    "    'train': str(train_images_dir.relative_to(dataset_dir)),\n",
    "    'val': str(val_images_dir.relative_to(dataset_dir)),\n",
    "    'nc': len(name_to_id),  # количество классов, у тебя должно быть определено name_to_id\n",
    "    'names': [None] * len(name_to_id)\n",
    "}\n",
    "\n",
    "# Заполним имена классов в порядке id (предполагается, что name_to_id — dict {name: id})\n",
    "for name, idx in name_to_id.items():\n",
    "    data_yaml['names'][idx] = name\n",
    "\n",
    "yaml_path = dataset_dir / \"data.yaml\"\n",
    "with open(yaml_path, \"w\") as f:\n",
    "    yaml.dump(data_yaml, f, sort_keys=False)\n",
    "\n",
    "print(f\"Сгенерирован файл {yaml_path}\")\n"
   ]
  }
 ],
 "metadata": {
  "kernelspec": {
   "display_name": "Python 3",
   "language": "python",
   "name": "python3"
  },
  "language_info": {
   "codemirror_mode": {
    "name": "ipython",
    "version": 3
   },
   "file_extension": ".py",
   "mimetype": "text/x-python",
   "name": "python",
   "nbconvert_exporter": "python",
   "pygments_lexer": "ipython3",
   "version": "3.13.5"
  }
 },
 "nbformat": 4,
 "nbformat_minor": 5
}
